{
 "cells": [
  {
   "cell_type": "code",
   "execution_count": 1,
   "metadata": {},
   "outputs": [],
   "source": [
    "import pandas as pd\n",
    "import seaborn as sns\n",
    "import matplotlib.pyplot as plt\n",
    "import numpy as np"
   ]
  },
  {
   "cell_type": "code",
   "execution_count": 17,
   "metadata": {},
   "outputs": [],
   "source": [
    "pd.DataFrame(np.random.rand(250,2)).to_csv('random250_normal.txt', header=None, index=None)"
   ]
  },
  {
   "cell_type": "code",
   "execution_count": null,
   "metadata": {},
   "outputs": [],
   "source": []
  },
  {
   "cell_type": "code",
   "execution_count": 8,
   "metadata": {},
   "outputs": [],
   "source": [
    "df = pd.read_csv('maps/att48.txt', header=None)\n",
    "att48 = df.values\n",
    "normal_att48 = att48 / att48.max()"
   ]
  },
  {
   "cell_type": "code",
   "execution_count": 5,
   "metadata": {},
   "outputs": [],
   "source": [
    "def plot_points(points):\n",
    "    plt.figure(figsize=(10, 10))\n",
    "    plt.scatter(points[:, 0], points[:, 1])\n",
    "    plt.show()"
   ]
  },
  {
   "cell_type": "code",
   "execution_count": 11,
   "metadata": {},
   "outputs": [
    {
     "data": {
      "text/plain": [
       "array([[0.86756   , 0.18719404],\n",
       "       [0.28768357, 0.00128833],\n",
       "       [0.71244536, 0.18345786],\n",
       "       [0.05166193, 0.10834836],\n",
       "       [0.3970625 , 0.21180107],\n",
       "       [0.98015964, 0.57433643],\n",
       "       [0.97565071, 0.4787425 ],\n",
       "       [0.93597   , 0.16335996],\n",
       "       [0.88868857, 0.24284979],\n",
       "       [0.14326204, 0.26397836],\n",
       "       [0.7044575 , 0.33573821],\n",
       "       [0.77157964, 0.37013643],\n",
       "       [0.60628714, 0.34449882],\n",
       "       [0.59417679, 0.26217468],\n",
       "       [0.81770179, 0.34565832],\n",
       "       [0.78678179, 0.08618914],\n",
       "       [0.98054643, 0.66786893],\n",
       "       [0.96135   , 0.46250964],\n",
       "       [0.996135  , 0.60847714],\n",
       "       [0.76011321, 0.45877357],\n",
       "       [0.5775575 , 0.4340375 ],\n",
       "       [0.78600893, 0.14300439],\n",
       "       [0.66980143, 0.28111311],\n",
       "       [0.21038393, 0.36189143],\n",
       "       [0.55488286, 0.29914971],\n",
       "       [0.08696211, 0.12960579],\n",
       "       [0.97333143, 0.620845  ],\n",
       "       [0.97152786, 0.51288321],\n",
       "       [0.40930179, 0.09739757],\n",
       "       [0.94717857, 0.58052036],\n",
       "       [0.97204321, 0.36086071],\n",
       "       [0.4180625 , 0.42579214],\n",
       "       [0.82787929, 0.40878643],\n",
       "       [0.59366143, 0.15434168],\n",
       "       [0.00296315, 0.28549343],\n",
       "       [0.93378   , 0.48685893],\n",
       "       [1.        , 0.59198643],\n",
       "       [0.95233179, 0.28910075],\n",
       "       [0.44885321, 0.36446786],\n",
       "       [0.80791036, 0.27505796],\n",
       "       [0.64223143, 0.01803659],\n",
       "       [0.24684361, 0.20213864],\n",
       "       [0.9379025 , 0.63115179],\n",
       "       [0.96740536, 0.41728929],\n",
       "       [0.00128833, 0.3447565 ],\n",
       "       [0.87696464, 0.38559643],\n",
       "       [0.66799786, 0.41973714],\n",
       "       [0.38946143, 0.25019325]])"
      ]
     },
     "execution_count": 11,
     "metadata": {},
     "output_type": "execute_result"
    }
   ],
   "source": [
    "normal_att48"
   ]
  },
  {
   "cell_type": "code",
   "execution_count": 14,
   "metadata": {},
   "outputs": [],
   "source": [
    "## save normal_att48\n",
    "pd.DataFrame(normal_att48).to_csv('normal_att48.txt', header=None, index=None)"
   ]
  },
  {
   "cell_type": "code",
   "execution_count": 4,
   "metadata": {},
   "outputs": [
    {
     "ename": "NameError",
     "evalue": "name 'plot_points' is not defined",
     "output_type": "error",
     "traceback": [
      "\u001b[0;31m---------------------------------------------------------------------------\u001b[0m",
      "\u001b[0;31mNameError\u001b[0m                                 Traceback (most recent call last)",
      "Cell \u001b[0;32mIn[4], line 1\u001b[0m\n\u001b[0;32m----> 1\u001b[0m plot_points(att48)\n",
      "\u001b[0;31mNameError\u001b[0m: name 'plot_points' is not defined"
     ]
    }
   ],
   "source": [
    "plot_points(att48)"
   ]
  },
  {
   "cell_type": "code",
   "execution_count": 24,
   "metadata": {},
   "outputs": [
    {
     "data": {
      "text/plain": [
       "array([[24.29168   ,  5.241433  ],\n",
       "       [ 8.05514   ,  0.03607318],\n",
       "       [19.94847   ,  5.13682   ],\n",
       "       [ 1.446534  ,  3.033754  ],\n",
       "       [11.11775   ,  5.93043   ],\n",
       "       [27.44447   , 16.08142   ],\n",
       "       [27.31822   , 13.40479   ],\n",
       "       [26.20716   ,  4.574079  ],\n",
       "       [24.88328   ,  6.799794  ],\n",
       "       [ 4.011337  ,  7.391394  ],\n",
       "       [19.72481   ,  9.40067   ],\n",
       "       [21.60423   , 10.36382   ],\n",
       "       [16.97604   ,  9.645967  ],\n",
       "       [16.63695   ,  7.340891  ],\n",
       "       [22.89565   ,  9.678433  ],\n",
       "       [22.02989   ,  2.413296  ],\n",
       "       [27.4553    , 18.70033   ],\n",
       "       [26.9178    , 12.95027   ],\n",
       "       [27.89178   , 17.03736   ],\n",
       "       [21.28317   , 12.84566   ],\n",
       "       [16.17161   , 12.15305   ],\n",
       "       [22.00825   ,  4.004123  ],\n",
       "       [18.75444   ,  7.871167  ],\n",
       "       [ 5.89075   , 10.13296   ],\n",
       "       [15.53672   ,  8.376192  ],\n",
       "       [ 2.434939  ,  3.628962  ],\n",
       "       [27.25328   , 17.38366   ],\n",
       "       [27.20278   , 14.36073   ],\n",
       "       [11.46045   ,  2.727132  ],\n",
       "       [26.521     , 16.25457   ],\n",
       "       [27.21721   , 10.1041    ],\n",
       "       [11.70575   , 11.92218   ],\n",
       "       [23.18062   , 11.44602   ],\n",
       "       [16.62252   ,  4.321567  ],\n",
       "       [ 0.08296831,  7.993816  ],\n",
       "       [26.14584   , 13.63205   ],\n",
       "       [28.        , 16.57562   ],\n",
       "       [26.66529   ,  8.094821  ],\n",
       "       [12.56789   , 10.2051    ],\n",
       "       [22.62149   ,  7.701623  ],\n",
       "       [17.98248   ,  0.5050245 ],\n",
       "       [ 6.911621  ,  5.659882  ],\n",
       "       [26.26127   , 17.67225   ],\n",
       "       [27.08735   , 11.6841    ],\n",
       "       [ 0.03607318,  9.653182  ],\n",
       "       [24.55501   , 10.7967    ],\n",
       "       [18.70394   , 11.75264   ],\n",
       "       [10.90492   ,  7.005411  ]])"
      ]
     },
     "execution_count": 24,
     "metadata": {},
     "output_type": "execute_result"
    }
   ],
   "source": [
    "att48"
   ]
  },
  {
   "cell_type": "code",
   "execution_count": 37,
   "metadata": {},
   "outputs": [
    {
     "data": {
      "image/png": "[encoded data removed]",
      "text/plain": [
       "<Figure size 1000x1000 with 1 Axes>"
      ]
     },
     "metadata": {},
     "output_type": "display_data"
    }
   ],
   "source": [
    "double_att48 = np.concatenate((att48, np.array([[y,x] for x,y in att48])))\n",
    "plot_points(double_att48)\n",
    "pd.DataFrame(double_att48).to_csv('java/att48_double.txt', header=None, index=None)"
   ]
  },
  {
   "cell_type": "code",
   "execution_count": 40,
   "metadata": {},
   "outputs": [
    {
     "data": {
      "text/plain": [
       "array([[24.88328   ,  6.799794  ],\n",
       "       [28.        , 16.57562   ],\n",
       "       [27.20278   , 14.36073   ],\n",
       "       [23.18062   , 11.44602   ],\n",
       "       [27.21721   , 10.1041    ],\n",
       "       [26.66529   ,  8.094821  ],\n",
       "       [21.28317   , 12.84566   ],\n",
       "       [22.00825   ,  4.004123  ],\n",
       "       [22.02989   ,  2.413296  ],\n",
       "       [19.94847   ,  5.13682   ],\n",
       "       [10.90492   ,  7.005411  ],\n",
       "       [19.72481   ,  9.40067   ],\n",
       "       [15.53672   ,  8.376192  ],\n",
       "       [17.98248   ,  0.5050245 ],\n",
       "       [27.89178   , 17.03736   ],\n",
       "       [16.62252   ,  4.321567  ],\n",
       "       [16.17161   , 12.15305   ],\n",
       "       [21.60423   , 10.36382   ],\n",
       "       [26.14584   , 13.63205   ],\n",
       "       [ 8.05514   ,  0.03607318],\n",
       "       [11.46045   ,  2.727132  ],\n",
       "       [ 1.446534  ,  3.033754  ],\n",
       "       [11.70575   , 11.92218   ],\n",
       "       [27.44447   , 16.08142   ]])"
      ]
     },
     "execution_count": 40,
     "metadata": {},
     "output_type": "execute_result"
    }
   ],
   "source": [
    "# random 24 points from att48\n",
    "random_att48 = np.random.choice(48, 24, replace=False)\n",
    "random_att48 = att48[random_att48]\n",
    "pd.DataFrame(random_att48).to_csv('java/half_att48.txt', header=None, index=None)"
   ]
  },
  {
   "cell_type": "code",
   "execution_count": null,
   "metadata": {},
   "outputs": [],
   "source": []
  }
 ],
 "metadata": {
  "kernelspec": {
   "display_name": "Python 3",
   "language": "python",
   "name": "python3"
  },
  "language_info": {
   "codemirror_mode": {
    "name": "ipython",
    "version": 3
   },
   "file_extension": ".py",
   "mimetype": "text/x-python",
   "name": "python",
   "nbconvert_exporter": "python",
   "pygments_lexer": "ipython3",
   "version": "3.10.6 (main, Nov 14 2022, 16:10:14) [GCC 11.3.0]"
  },
  "orig_nbformat": 4,
  "vscode": {
   "interpreter": {
    "hash": "916dbcbb3f70747c44a77c7bcd40155683ae19c65e1c03b4aa3499c5328201f1"
   }
  }
 },
 "nbformat": 4,
 "nbformat_minor": 2
}
